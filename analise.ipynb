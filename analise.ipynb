{
 "cells": [
  {
   "cell_type": "markdown",
   "metadata": {},
   "source": [
    "# Análise dos dados coletados do Spotify\n",
    "### Coleta realizada em: \n",
    "\n",
    "##### Trabalho de Conclusão de Curso - TCC\n"
   ]
  },
  {
   "cell_type": "markdown",
   "metadata": {},
   "source": [
    "### Importação das bibliotecas e do arquivo 'dataframefinal.csv'"
   ]
  },
  {
   "cell_type": "code",
   "execution_count": 1,
   "metadata": {},
   "outputs": [],
   "source": [
    "import pandas as pd\n",
    "%matplotlib inline"
   ]
  },
  {
   "cell_type": "code",
   "execution_count": 17,
   "metadata": {},
   "outputs": [],
   "source": [
    "# Função definida para normalizar os valores\n",
    "from sklearn.preprocessing import StandardScaler\n",
    "def normalizar(array):\n",
    "    standarlization = StandardScaler()\n",
    "    return standarlization.fit_transform(array)"
   ]
  },
  {
   "cell_type": "code",
   "execution_count": 19,
   "metadata": {},
   "outputs": [],
   "source": [
    "# Função para retornar um gráfito do método Elbow, com a finalidade de identificar a quantidade ideal de clusters\n",
    "from sklearn.cluster import KMeans\n",
    "import matplotlib.pyplot as plt\n",
    "def calculoElbow(array):\n",
    "    wcss = []\n",
    "\n",
    "    for i in range(1,10):\n",
    "        kmeans = KMeans(n_clusters=i, init='random')\n",
    "        kmeans.fit(array)\n",
    "        wcss.append(kmeans.inertia_)\n",
    "\n",
    "    plt.plot(range(1,10),wcss)\n",
    "    plt.title('O Metodo Elbow')\n",
    "    plt.xlabel('numero de Clusters')\n",
    "    plt.ylabel('WSS')\n",
    "    plt.show()\n",
    "    "
   ]
  },
  {
   "cell_type": "code",
   "execution_count": 23,
   "metadata": {},
   "outputs": [
    {
     "name": "stdout",
     "output_type": "stream",
     "text": [
      "Tamanho do Dataframe: 42142 músicas\n"
     ]
    }
   ],
   "source": [
    "# Leitura do arquivo\n",
    "df = pd.read_csv('dataframefinal.csv')\n",
    "# Remoção de colunas nao utilizadas para a análise\n",
    "df = df.drop(columns=['Unnamed: 0', 'Unnamed: 0.1', '_id', 'album', 'available_markets',\n",
    "                      'disc_number','episode', 'uri', 'href', 'id', 'linked_from', \n",
    "                      'type', 'explicit','external_ids','external_urls','is_local', 'preview_url',\n",
    "                     'track_number', 'track'])\n",
    "# remoção de tuplas com valores NaN\n",
    "df = df.dropna()\n",
    "print('Tamanho do Dataframe: %d músicas' % len(df))"
   ]
  },
  {
   "cell_type": "code",
   "execution_count": 24,
   "metadata": {},
   "outputs": [
    {
     "data": {
      "text/html": [
       "<div>\n",
       "<style scoped>\n",
       "    .dataframe tbody tr th:only-of-type {\n",
       "        vertical-align: middle;\n",
       "    }\n",
       "\n",
       "    .dataframe tbody tr th {\n",
       "        vertical-align: top;\n",
       "    }\n",
       "\n",
       "    .dataframe thead th {\n",
       "        text-align: right;\n",
       "    }\n",
       "</style>\n",
       "<table border=\"1\" class=\"dataframe\">\n",
       "  <thead>\n",
       "    <tr style=\"text-align: right;\">\n",
       "      <th></th>\n",
       "      <th>artists</th>\n",
       "      <th>category</th>\n",
       "      <th>country</th>\n",
       "      <th>duration_ms</th>\n",
       "      <th>name</th>\n",
       "      <th>popularity</th>\n",
       "      <th>danceability</th>\n",
       "      <th>energy</th>\n",
       "      <th>loudness</th>\n",
       "      <th>speechiness</th>\n",
       "      <th>acousticness</th>\n",
       "      <th>instrumentalness</th>\n",
       "      <th>liveness</th>\n",
       "      <th>valence</th>\n",
       "      <th>tempo</th>\n",
       "    </tr>\n",
       "  </thead>\n",
       "  <tbody>\n",
       "    <tr>\n",
       "      <th>0</th>\n",
       "      <td>Jorge &amp; Mateus</td>\n",
       "      <td>toplists</td>\n",
       "      <td>BR</td>\n",
       "      <td>175219</td>\n",
       "      <td>Tijolão - Ao Vivo</td>\n",
       "      <td>0</td>\n",
       "      <td>0.637</td>\n",
       "      <td>0.877</td>\n",
       "      <td>-3.680</td>\n",
       "      <td>0.1980</td>\n",
       "      <td>0.469</td>\n",
       "      <td>0.0</td>\n",
       "      <td>0.3430</td>\n",
       "      <td>0.691</td>\n",
       "      <td>118.889</td>\n",
       "    </tr>\n",
       "    <tr>\n",
       "      <th>1</th>\n",
       "      <td>Ed Sheeran</td>\n",
       "      <td>toplists</td>\n",
       "      <td>BR</td>\n",
       "      <td>206186</td>\n",
       "      <td>Cross Me (feat. Chance the Rapper &amp; PnB Rock)</td>\n",
       "      <td>0</td>\n",
       "      <td>0.746</td>\n",
       "      <td>0.787</td>\n",
       "      <td>-6.373</td>\n",
       "      <td>0.1200</td>\n",
       "      <td>0.214</td>\n",
       "      <td>0.0</td>\n",
       "      <td>0.0669</td>\n",
       "      <td>0.607</td>\n",
       "      <td>95.005</td>\n",
       "    </tr>\n",
       "    <tr>\n",
       "      <th>2</th>\n",
       "      <td>Paula Fernandes</td>\n",
       "      <td>toplists</td>\n",
       "      <td>BR</td>\n",
       "      <td>204000</td>\n",
       "      <td>Juntos</td>\n",
       "      <td>63</td>\n",
       "      <td>0.687</td>\n",
       "      <td>0.411</td>\n",
       "      <td>-8.619</td>\n",
       "      <td>0.0338</td>\n",
       "      <td>0.866</td>\n",
       "      <td>0.0</td>\n",
       "      <td>0.0967</td>\n",
       "      <td>0.184</td>\n",
       "      <td>101.851</td>\n",
       "    </tr>\n",
       "    <tr>\n",
       "      <th>3</th>\n",
       "      <td>Diego &amp; Victor Hugo</td>\n",
       "      <td>toplists</td>\n",
       "      <td>BR</td>\n",
       "      <td>190276</td>\n",
       "      <td>Entregador de Flor - Ao Vivo em Brasília</td>\n",
       "      <td>0</td>\n",
       "      <td>0.376</td>\n",
       "      <td>0.834</td>\n",
       "      <td>-4.303</td>\n",
       "      <td>0.0800</td>\n",
       "      <td>0.549</td>\n",
       "      <td>0.0</td>\n",
       "      <td>0.4120</td>\n",
       "      <td>0.329</td>\n",
       "      <td>125.171</td>\n",
       "    </tr>\n",
       "    <tr>\n",
       "      <th>4</th>\n",
       "      <td>Dennis DJ</td>\n",
       "      <td>toplists</td>\n",
       "      <td>BR</td>\n",
       "      <td>224368</td>\n",
       "      <td>Megamix do Baile</td>\n",
       "      <td>0</td>\n",
       "      <td>0.847</td>\n",
       "      <td>0.847</td>\n",
       "      <td>-6.920</td>\n",
       "      <td>0.3530</td>\n",
       "      <td>0.475</td>\n",
       "      <td>0.0</td>\n",
       "      <td>0.1180</td>\n",
       "      <td>0.741</td>\n",
       "      <td>149.947</td>\n",
       "    </tr>\n",
       "  </tbody>\n",
       "</table>\n",
       "</div>"
      ],
      "text/plain": [
       "               artists  category country  duration_ms  \\\n",
       "0       Jorge & Mateus  toplists      BR       175219   \n",
       "1           Ed Sheeran  toplists      BR       206186   \n",
       "2      Paula Fernandes  toplists      BR       204000   \n",
       "3  Diego & Victor Hugo  toplists      BR       190276   \n",
       "4            Dennis DJ  toplists      BR       224368   \n",
       "\n",
       "                                            name  popularity  danceability  \\\n",
       "0                              Tijolão - Ao Vivo           0         0.637   \n",
       "1  Cross Me (feat. Chance the Rapper & PnB Rock)           0         0.746   \n",
       "2                                         Juntos          63         0.687   \n",
       "3       Entregador de Flor - Ao Vivo em Brasília           0         0.376   \n",
       "4                               Megamix do Baile           0         0.847   \n",
       "\n",
       "   energy  loudness  speechiness  acousticness  instrumentalness  liveness  \\\n",
       "0   0.877    -3.680       0.1980         0.469               0.0    0.3430   \n",
       "1   0.787    -6.373       0.1200         0.214               0.0    0.0669   \n",
       "2   0.411    -8.619       0.0338         0.866               0.0    0.0967   \n",
       "3   0.834    -4.303       0.0800         0.549               0.0    0.4120   \n",
       "4   0.847    -6.920       0.3530         0.475               0.0    0.1180   \n",
       "\n",
       "   valence    tempo  \n",
       "0    0.691  118.889  \n",
       "1    0.607   95.005  \n",
       "2    0.184  101.851  \n",
       "3    0.329  125.171  \n",
       "4    0.741  149.947  "
      ]
     },
     "execution_count": 24,
     "metadata": {},
     "output_type": "execute_result"
    }
   ],
   "source": [
    "df.head()"
   ]
  },
  {
   "cell_type": "code",
   "execution_count": 25,
   "metadata": {},
   "outputs": [
    {
     "data": {
      "text/plain": [
       "BR    17928\n",
       "FR    13040\n",
       "JP    11174\n",
       "Name: country, dtype: int64"
      ]
     },
     "execution_count": 25,
     "metadata": {},
     "output_type": "execute_result"
    }
   ],
   "source": [
    "# Identificação da quantidade de músicas por país\n",
    "df.country.value_counts()"
   ]
  },
  {
   "cell_type": "markdown",
   "metadata": {},
   "source": [
    "##### Análise em relação a danceability"
   ]
  },
  {
   "cell_type": "code",
   "execution_count": 26,
   "metadata": {},
   "outputs": [
    {
     "data": {
      "text/plain": [
       "array([[0.637],\n",
       "       [0.746],\n",
       "       [0.687],\n",
       "       ...,\n",
       "       [0.789],\n",
       "       [0.272],\n",
       "       [0.616]])"
      ]
     },
     "execution_count": 26,
     "metadata": {},
     "output_type": "execute_result"
    }
   ],
   "source": [
    "X = df.loc[ :, [\"danceability\"]].values\n",
    "X"
   ]
  },
  {
   "cell_type": "code",
   "execution_count": 27,
   "metadata": {},
   "outputs": [
    {
     "data": {
      "text/plain": [
       "array([[ 0.23821444],\n",
       "       [ 0.86320151],\n",
       "       [ 0.52490576],\n",
       "       ...,\n",
       "       [ 1.10975605],\n",
       "       [-1.85463217],\n",
       "       [ 0.11780409]])"
      ]
     },
     "execution_count": 27,
     "metadata": {},
     "output_type": "execute_result"
    }
   ],
   "source": [
    "# Normalização da danceability\n",
    "Xst = normalizar(X)\n",
    "Xst"
   ]
  },
  {
   "cell_type": "code",
   "execution_count": 28,
   "metadata": {},
   "outputs": [
    {
     "data": {
      "image/png": "[encoded data removed]",
      "text/plain": [
       "<Figure size 432x288 with 1 Axes>"
      ]
     },
     "metadata": {
      "needs_background": "light"
     },
     "output_type": "display_data"
    }
   ],
   "source": [
    "calculoElbow(Xst)"
   ]
  },
  {
   "cell_type": "code",
   "execution_count": null,
   "metadata": {},
   "outputs": [],
   "source": []
  }
 ],
 "metadata": {
  "kernelspec": {
   "display_name": "Python 3",
   "language": "python",
   "name": "python3"
  },
  "language_info": {
   "codemirror_mode": {
    "name": "ipython",
    "version": 3
   },
   "file_extension": ".py",
   "mimetype": "text/x-python",
   "name": "python",
   "nbconvert_exporter": "python",
   "pygments_lexer": "ipython3",
   "version": "3.7.3"
  }
 },
 "nbformat": 4,
 "nbformat_minor": 2
}
