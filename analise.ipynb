{
 "cells": [
  {
   "cell_type": "markdown",
   "metadata": {},
   "source": [
    "# Análise dos dados coletados do Spotify\n",
    "### Coleta realizada em: \n",
    "\n",
    "##### Trabalho de Conclusão de Curso - TCC\n"
   ]
  },
  {
   "cell_type": "markdown",
   "metadata": {},
   "source": [
    "### Importação das bibliotecas e do arquivo 'dataframefinal.csv'"
   ]
  },
  {
   "cell_type": "code",
   "execution_count": 51,
   "metadata": {},
   "outputs": [],
   "source": [
    "import pandas as pd\n",
    "import numpy as np\n",
    "%matplotlib inline"
   ]
  },
  {
   "cell_type": "code",
   "execution_count": 2,
   "metadata": {},
   "outputs": [],
   "source": [
    "# Função definida para normalizar os valores\n",
    "from sklearn.preprocessing import StandardScaler\n",
    "def normalizar(array):\n",
    "    standarlization = StandardScaler()\n",
    "    return standarlization.fit_transform(array)"
   ]
  },
  {
   "cell_type": "code",
   "execution_count": 3,
   "metadata": {},
   "outputs": [],
   "source": [
    "# Função para retornar um gráfito do método Elbow, com a finalidade de identificar a quantidade ideal de clusters\n",
    "from sklearn.cluster import KMeans\n",
    "import matplotlib.pyplot as plt\n",
    "def calculoElbow(array):\n",
    "    wcss = []\n",
    "\n",
    "    for i in range(1,10):\n",
    "        kmeans = KMeans(n_clusters=i, init='random')\n",
    "        kmeans.fit(array)\n",
    "        wcss.append(kmeans.inertia_)\n",
    "\n",
    "    plt.plot(range(1,10),wcss)\n",
    "    plt.title('O Metodo Elbow')\n",
    "    plt.xlabel('numero de Clusters')\n",
    "    plt.ylabel('WSS')\n",
    "    plt.show()\n",
    "    "
   ]
  },
  {
   "cell_type": "code",
   "execution_count": 4,
   "metadata": {},
   "outputs": [
    {
     "name": "stdout",
     "output_type": "stream",
     "text": [
      "Tamanho do Dataframe: 42142 músicas\n"
     ]
    },
    {
     "name": "stderr",
     "output_type": "stream",
     "text": [
      "/home/adriano/anaconda3/lib/python3.7/site-packages/IPython/core/interactiveshell.py:3049: DtypeWarning: Columns (10,17,21) have mixed types. Specify dtype option on import or set low_memory=False.\n",
      "  interactivity=interactivity, compiler=compiler, result=result)\n"
     ]
    }
   ],
   "source": [
    "# Leitura do arquivo\n",
    "df = pd.read_csv('dataframefinal.csv')\n",
    "# Remoção de colunas nao utilizadas para a análise\n",
    "df = df.drop(columns=['Unnamed: 0', 'Unnamed: 0.1', '_id', 'album', 'available_markets',\n",
    "                      'disc_number','episode', 'uri', 'href', 'id', 'linked_from', \n",
    "                      'type', 'explicit','external_ids','external_urls','is_local', 'preview_url',\n",
    "                     'track_number', 'track'])\n",
    "# remoção de tuplas com valores NaN\n",
    "df = df.dropna()\n",
    "print('Tamanho do Dataframe: %d músicas' % len(df))"
   ]
  },
  {
   "cell_type": "code",
   "execution_count": 5,
   "metadata": {},
   "outputs": [
    {
     "data": {
      "text/html": [
       "<div>\n",
       "<style scoped>\n",
       "    .dataframe tbody tr th:only-of-type {\n",
       "        vertical-align: middle;\n",
       "    }\n",
       "\n",
       "    .dataframe tbody tr th {\n",
       "        vertical-align: top;\n",
       "    }\n",
       "\n",
       "    .dataframe thead th {\n",
       "        text-align: right;\n",
       "    }\n",
       "</style>\n",
       "<table border=\"1\" class=\"dataframe\">\n",
       "  <thead>\n",
       "    <tr style=\"text-align: right;\">\n",
       "      <th></th>\n",
       "      <th>artists</th>\n",
       "      <th>category</th>\n",
       "      <th>country</th>\n",
       "      <th>duration_ms</th>\n",
       "      <th>name</th>\n",
       "      <th>popularity</th>\n",
       "      <th>danceability</th>\n",
       "      <th>energy</th>\n",
       "      <th>loudness</th>\n",
       "      <th>speechiness</th>\n",
       "      <th>acousticness</th>\n",
       "      <th>instrumentalness</th>\n",
       "      <th>liveness</th>\n",
       "      <th>valence</th>\n",
       "      <th>tempo</th>\n",
       "    </tr>\n",
       "  </thead>\n",
       "  <tbody>\n",
       "    <tr>\n",
       "      <th>0</th>\n",
       "      <td>Jorge &amp; Mateus</td>\n",
       "      <td>toplists</td>\n",
       "      <td>BR</td>\n",
       "      <td>175219</td>\n",
       "      <td>Tijolão - Ao Vivo</td>\n",
       "      <td>0</td>\n",
       "      <td>0.637</td>\n",
       "      <td>0.877</td>\n",
       "      <td>-3.680</td>\n",
       "      <td>0.1980</td>\n",
       "      <td>0.469</td>\n",
       "      <td>0.0</td>\n",
       "      <td>0.3430</td>\n",
       "      <td>0.691</td>\n",
       "      <td>118.889</td>\n",
       "    </tr>\n",
       "    <tr>\n",
       "      <th>1</th>\n",
       "      <td>Ed Sheeran</td>\n",
       "      <td>toplists</td>\n",
       "      <td>BR</td>\n",
       "      <td>206186</td>\n",
       "      <td>Cross Me (feat. Chance the Rapper &amp; PnB Rock)</td>\n",
       "      <td>0</td>\n",
       "      <td>0.746</td>\n",
       "      <td>0.787</td>\n",
       "      <td>-6.373</td>\n",
       "      <td>0.1200</td>\n",
       "      <td>0.214</td>\n",
       "      <td>0.0</td>\n",
       "      <td>0.0669</td>\n",
       "      <td>0.607</td>\n",
       "      <td>95.005</td>\n",
       "    </tr>\n",
       "    <tr>\n",
       "      <th>2</th>\n",
       "      <td>Paula Fernandes</td>\n",
       "      <td>toplists</td>\n",
       "      <td>BR</td>\n",
       "      <td>204000</td>\n",
       "      <td>Juntos</td>\n",
       "      <td>63</td>\n",
       "      <td>0.687</td>\n",
       "      <td>0.411</td>\n",
       "      <td>-8.619</td>\n",
       "      <td>0.0338</td>\n",
       "      <td>0.866</td>\n",
       "      <td>0.0</td>\n",
       "      <td>0.0967</td>\n",
       "      <td>0.184</td>\n",
       "      <td>101.851</td>\n",
       "    </tr>\n",
       "    <tr>\n",
       "      <th>3</th>\n",
       "      <td>Diego &amp; Victor Hugo</td>\n",
       "      <td>toplists</td>\n",
       "      <td>BR</td>\n",
       "      <td>190276</td>\n",
       "      <td>Entregador de Flor - Ao Vivo em Brasília</td>\n",
       "      <td>0</td>\n",
       "      <td>0.376</td>\n",
       "      <td>0.834</td>\n",
       "      <td>-4.303</td>\n",
       "      <td>0.0800</td>\n",
       "      <td>0.549</td>\n",
       "      <td>0.0</td>\n",
       "      <td>0.4120</td>\n",
       "      <td>0.329</td>\n",
       "      <td>125.171</td>\n",
       "    </tr>\n",
       "    <tr>\n",
       "      <th>4</th>\n",
       "      <td>Dennis DJ</td>\n",
       "      <td>toplists</td>\n",
       "      <td>BR</td>\n",
       "      <td>224368</td>\n",
       "      <td>Megamix do Baile</td>\n",
       "      <td>0</td>\n",
       "      <td>0.847</td>\n",
       "      <td>0.847</td>\n",
       "      <td>-6.920</td>\n",
       "      <td>0.3530</td>\n",
       "      <td>0.475</td>\n",
       "      <td>0.0</td>\n",
       "      <td>0.1180</td>\n",
       "      <td>0.741</td>\n",
       "      <td>149.947</td>\n",
       "    </tr>\n",
       "  </tbody>\n",
       "</table>\n",
       "</div>"
      ],
      "text/plain": [
       "               artists  category country  duration_ms  \\\n",
       "0       Jorge & Mateus  toplists      BR       175219   \n",
       "1           Ed Sheeran  toplists      BR       206186   \n",
       "2      Paula Fernandes  toplists      BR       204000   \n",
       "3  Diego & Victor Hugo  toplists      BR       190276   \n",
       "4            Dennis DJ  toplists      BR       224368   \n",
       "\n",
       "                                            name  popularity  danceability  \\\n",
       "0                              Tijolão - Ao Vivo           0         0.637   \n",
       "1  Cross Me (feat. Chance the Rapper & PnB Rock)           0         0.746   \n",
       "2                                         Juntos          63         0.687   \n",
       "3       Entregador de Flor - Ao Vivo em Brasília           0         0.376   \n",
       "4                               Megamix do Baile           0         0.847   \n",
       "\n",
       "   energy  loudness  speechiness  acousticness  instrumentalness  liveness  \\\n",
       "0   0.877    -3.680       0.1980         0.469               0.0    0.3430   \n",
       "1   0.787    -6.373       0.1200         0.214               0.0    0.0669   \n",
       "2   0.411    -8.619       0.0338         0.866               0.0    0.0967   \n",
       "3   0.834    -4.303       0.0800         0.549               0.0    0.4120   \n",
       "4   0.847    -6.920       0.3530         0.475               0.0    0.1180   \n",
       "\n",
       "   valence    tempo  \n",
       "0    0.691  118.889  \n",
       "1    0.607   95.005  \n",
       "2    0.184  101.851  \n",
       "3    0.329  125.171  \n",
       "4    0.741  149.947  "
      ]
     },
     "execution_count": 5,
     "metadata": {},
     "output_type": "execute_result"
    }
   ],
   "source": [
    "df.head()"
   ]
  },
  {
   "cell_type": "code",
   "execution_count": 6,
   "metadata": {},
   "outputs": [
    {
     "data": {
      "text/plain": [
       "BR    17928\n",
       "FR    13040\n",
       "JP    11174\n",
       "Name: country, dtype: int64"
      ]
     },
     "execution_count": 6,
     "metadata": {},
     "output_type": "execute_result"
    }
   ],
   "source": [
    "# Identificação da quantidade de músicas por país\n",
    "df.country.value_counts()"
   ]
  },
  {
   "cell_type": "markdown",
   "metadata": {},
   "source": [
    "##### Análise em relação a danceability"
   ]
  },
  {
   "cell_type": "code",
   "execution_count": 7,
   "metadata": {},
   "outputs": [
    {
     "data": {
      "text/plain": [
       "array([[0.637],\n",
       "       [0.746],\n",
       "       [0.687],\n",
       "       ...,\n",
       "       [0.789],\n",
       "       [0.272],\n",
       "       [0.616]])"
      ]
     },
     "execution_count": 7,
     "metadata": {},
     "output_type": "execute_result"
    }
   ],
   "source": [
    "X = df.loc[ :, [\"danceability\"]].values\n",
    "X"
   ]
  },
  {
   "cell_type": "code",
   "execution_count": 8,
   "metadata": {},
   "outputs": [
    {
     "data": {
      "text/plain": [
       "array([[ 0.23821444],\n",
       "       [ 0.86320151],\n",
       "       [ 0.52490576],\n",
       "       ...,\n",
       "       [ 1.10975605],\n",
       "       [-1.85463217],\n",
       "       [ 0.11780409]])"
      ]
     },
     "execution_count": 8,
     "metadata": {},
     "output_type": "execute_result"
    }
   ],
   "source": [
    "# Normalização da danceability\n",
    "Xst = normalizar(X)\n",
    "Xst"
   ]
  },
  {
   "cell_type": "code",
   "execution_count": 9,
   "metadata": {},
   "outputs": [
    {
     "data": {
      "image/png": "[encoded data removed]",
      "text/plain": [
       "<Figure size 432x288 with 1 Axes>"
      ]
     },
     "metadata": {
      "needs_background": "light"
     },
     "output_type": "display_data"
    }
   ],
   "source": [
    "calculoElbow(Xst)"
   ]
  },
  {
   "cell_type": "code",
   "execution_count": 11,
   "metadata": {},
   "outputs": [
    {
     "data": {
      "text/plain": [
       "array([[-0.7057707 ],\n",
       "       [ 0.2428075 ],\n",
       "       [ 1.13128994],\n",
       "       [-1.96382033]])"
      ]
     },
     "execution_count": 11,
     "metadata": {},
     "output_type": "execute_result"
    }
   ],
   "source": [
    "# Utilizando o Kmeans, é realizado a clusterização\n",
    "# Ou seja, calculo a partir do vizinho mais próximo\n",
    "# Então é mostrado o centro dos clursters\n",
    "kmeans = KMeans(n_clusters=4)\n",
    "kmeans.fit(Xst)\n",
    "kmeans.cluster_centers_"
   ]
  },
  {
   "cell_type": "code",
   "execution_count": 33,
   "metadata": {},
   "outputs": [
    {
     "data": {
      "text/html": [
       "<div>\n",
       "<style scoped>\n",
       "    .dataframe tbody tr th:only-of-type {\n",
       "        vertical-align: middle;\n",
       "    }\n",
       "\n",
       "    .dataframe tbody tr th {\n",
       "        vertical-align: top;\n",
       "    }\n",
       "\n",
       "    .dataframe thead th {\n",
       "        text-align: right;\n",
       "    }\n",
       "</style>\n",
       "<table border=\"1\" class=\"dataframe\">\n",
       "  <thead>\n",
       "    <tr style=\"text-align: right;\">\n",
       "      <th></th>\n",
       "      <th>country</th>\n",
       "      <th>cluster</th>\n",
       "      <th>danceability</th>\n",
       "    </tr>\n",
       "  </thead>\n",
       "  <tbody>\n",
       "    <tr>\n",
       "      <th>0</th>\n",
       "      <td>BR</td>\n",
       "      <td>2</td>\n",
       "      <td>0.637</td>\n",
       "    </tr>\n",
       "    <tr>\n",
       "      <th>1</th>\n",
       "      <td>BR</td>\n",
       "      <td>0</td>\n",
       "      <td>0.746</td>\n",
       "    </tr>\n",
       "    <tr>\n",
       "      <th>2</th>\n",
       "      <td>BR</td>\n",
       "      <td>2</td>\n",
       "      <td>0.687</td>\n",
       "    </tr>\n",
       "    <tr>\n",
       "      <th>3</th>\n",
       "      <td>BR</td>\n",
       "      <td>3</td>\n",
       "      <td>0.376</td>\n",
       "    </tr>\n",
       "    <tr>\n",
       "      <th>4</th>\n",
       "      <td>BR</td>\n",
       "      <td>0</td>\n",
       "      <td>0.847</td>\n",
       "    </tr>\n",
       "  </tbody>\n",
       "</table>\n",
       "</div>"
      ],
      "text/plain": [
       "  country  cluster  danceability\n",
       "0      BR        2         0.637\n",
       "1      BR        0         0.746\n",
       "2      BR        2         0.687\n",
       "3      BR        3         0.376\n",
       "4      BR        0         0.847"
      ]
     },
     "execution_count": 33,
     "metadata": {},
     "output_type": "execute_result"
    }
   ],
   "source": [
    "# Clusterização\n",
    "y_pred = KMeans(n_clusters=4).fit_predict(Xst)\n",
    "df[\"cluster\"] = y_pred\n",
    "df.loc[ :, [\"country\", \"cluster\", \"danceability\"]].head()"
   ]
  },
  {
   "cell_type": "markdown",
   "metadata": {},
   "source": [
    "#### Análise do Brasil"
   ]
  },
  {
   "cell_type": "code",
   "execution_count": 43,
   "metadata": {},
   "outputs": [],
   "source": [
    "# Divisão do df para a análise do Brasil\n",
    "dfbr = df[ dfAux.country == \"BR\"]"
   ]
  },
  {
   "cell_type": "code",
   "execution_count": 35,
   "metadata": {},
   "outputs": [
    {
     "data": {
      "text/plain": [
       "2    6135\n",
       "3    5124\n",
       "0    4633\n",
       "1    2036\n",
       "Name: cluster, dtype: int64"
      ]
     },
     "execution_count": 35,
     "metadata": {},
     "output_type": "execute_result"
    }
   ],
   "source": [
    "dfbr.cluster.value_counts()"
   ]
  },
  {
   "cell_type": "code",
   "execution_count": 40,
   "metadata": {},
   "outputs": [],
   "source": [
    "# Divisão do dfbr em df para cada cluster\n",
    "dfcl0 = dfbr[ dfbr.cluster == 0]\n",
    "dfcl1 = dfbr[ dfbr.cluster == 1]\n",
    "dfcl2 = dfbr[ dfbr.cluster == 2]\n",
    "dfcl3 = dfbr[ dfbr.cluster == 3]"
   ]
  },
  {
   "cell_type": "code",
   "execution_count": 47,
   "metadata": {},
   "outputs": [
    {
     "name": "stdout",
     "output_type": "stream",
     "text": [
      "(0.7924634146341467, 0.24624803536345835, 0.6340179299103524, 0.46570804059328624)\n"
     ]
    }
   ],
   "source": [
    "media = dfcl0.danceability.mean(), dfcl1.danceability.mean(), dfcl2.danceability.mean(), dfcl3.danceability.mean()\n",
    "print(media)"
   ]
  },
  {
   "cell_type": "code",
   "execution_count": 57,
   "metadata": {},
   "outputs": [
    {
     "data": {
      "image/png": "[encoded data removed]",
      "text/plain": [
       "<Figure size 432x288 with 1 Axes>"
      ]
     },
     "metadata": {
      "needs_background": "light"
     },
     "output_type": "display_data"
    }
   ],
   "source": [
    "objects = ('Cluster 0', 'Cluster 1', 'Cluster 2', 'Cluster 3')\n",
    "y_pos = np.arange(len(objects))\n",
    "performance = media\n",
    "\n",
    "plt.bar(y_pos, performance, align='center', alpha=0.5)\n",
    "plt.xticks(y_pos, objects)\n",
    "plt.ylabel('Valor')\n",
    "plt.title('Média de dancabilidade por cluster')\n",
    "\n",
    "plt.show()"
   ]
  },
  {
   "cell_type": "code",
   "execution_count": 56,
   "metadata": {},
   "outputs": [
    {
     "data": {
      "text/plain": [
       "summer        447\n",
       "party         388\n",
       "hiphop        384\n",
       "family        357\n",
       "mood          294\n",
       "edm_dance     292\n",
       "popculture    283\n",
       "sertanejo     231\n",
       "pop           230\n",
       "latin         223\n",
       "Name: category, dtype: int64"
      ]
     },
     "execution_count": 56,
     "metadata": {},
     "output_type": "execute_result"
    }
   ],
   "source": [
    "dfcl0.category.value_counts()[:10]"
   ]
  },
  {
   "cell_type": "code",
   "execution_count": 46,
   "metadata": {},
   "outputs": [
    {
     "data": {
      "text/plain": [
       "inspirational    422\n",
       "sleep            261\n",
       "popculture       198\n",
       "classical        167\n",
       "focus            117\n",
       "mood             113\n",
       "chill            110\n",
       "rock             108\n",
       "indie_alt         74\n",
       "gaming            67\n",
       "Name: category, dtype: int64"
      ]
     },
     "execution_count": 46,
     "metadata": {},
     "output_type": "execute_result"
    }
   ],
   "source": [
    "dfcl1.category.value_counts()[:10]"
   ]
  },
  {
   "cell_type": "code",
   "execution_count": 58,
   "metadata": {},
   "outputs": [
    {
     "data": {
      "text/plain": [
       "mood             556\n",
       "popculture       434\n",
       "inspirational    408\n",
       "edm_dance        404\n",
       "family           401\n",
       "sertanejo        360\n",
       "summer           328\n",
       "brazilian        319\n",
       "rock             282\n",
       "party            262\n",
       "Name: category, dtype: int64"
      ]
     },
     "execution_count": 58,
     "metadata": {},
     "output_type": "execute_result"
    }
   ],
   "source": [
    "dfcl2.category.value_counts()[:10]"
   ]
  },
  {
   "cell_type": "code",
   "execution_count": 59,
   "metadata": {},
   "outputs": [
    {
     "data": {
      "text/plain": [
       "inspirational    1116\n",
       "rock              432\n",
       "mood              427\n",
       "popculture        364\n",
       "brazilian         182\n",
       "summer            178\n",
       "indie_alt         167\n",
       "comedy            149\n",
       "sessions          146\n",
       "sertanejo         145\n",
       "Name: category, dtype: int64"
      ]
     },
     "execution_count": 59,
     "metadata": {},
     "output_type": "execute_result"
    }
   ],
   "source": [
    "dfcl3.category.value_counts()[:10]"
   ]
  },
  {
   "cell_type": "code",
   "execution_count": 64,
   "metadata": {},
   "outputs": [
    {
     "data": {
      "image/png": "[encoded data removed]",
      "text/plain": [
       "<Figure size 432x288 with 1 Axes>"
      ]
     },
     "metadata": {
      "needs_background": "light"
     },
     "output_type": "display_data"
    }
   ],
   "source": [
    "objects = ('Cluster 0', 'Cluster 1', 'Cluster 2', 'Cluster 3')\n",
    "y_pos = np.arange(len(objects))\n",
    "performance = dfcl0.energy.mean(), dfcl1.energy.mean(), dfcl2.energy.mean(), dfcl3.energy.mean()\n",
    "\n",
    "plt.bar(y_pos, performance, align='center', alpha=0.5)\n",
    "plt.xticks(y_pos, objects)\n",
    "plt.ylabel('Valor')\n",
    "plt.title('Média de energia por cluster da dancabilidade')\n",
    "\n",
    "plt.show()"
   ]
  },
  {
   "cell_type": "code",
   "execution_count": 69,
   "metadata": {},
   "outputs": [
    {
     "data": {
      "image/png": "[encoded data removed]",
      "text/plain": [
       "<Figure size 432x288 with 1 Axes>"
      ]
     },
     "metadata": {
      "needs_background": "light"
     },
     "output_type": "display_data"
    }
   ],
   "source": [
    "objects = ('Cluster 0', 'Cluster 1', 'Cluster 2', 'Cluster 3')\n",
    "y_pos = np.arange(len(objects))\n",
    "performance = dfcl0.tempo.mean(), dfcl1.tempo.mean(), dfcl2.tempo.mean(), dfcl3.tempo.mean()\n",
    "\n",
    "plt.bar(y_pos, performance, align='center', alpha=0.5)\n",
    "plt.xticks(y_pos, objects)\n",
    "plt.ylabel('Valor')\n",
    "plt.title('Média de tempo por cluster da dancabilidade')\n",
    "\n",
    "plt.show()"
   ]
  },
  {
   "cell_type": "code",
   "execution_count": 65,
   "metadata": {},
   "outputs": [
    {
     "data": {
      "text/plain": [
       "Index(['artists', 'category', 'country', 'duration_ms', 'name', 'popularity',\n",
       "       'danceability', 'energy', 'loudness', 'speechiness', 'acousticness',\n",
       "       'instrumentalness', 'liveness', 'valence', 'tempo', 'cluster'],\n",
       "      dtype='object')"
      ]
     },
     "execution_count": 65,
     "metadata": {},
     "output_type": "execute_result"
    }
   ],
   "source": [
    "dfbr.columns"
   ]
  },
  {
   "cell_type": "code",
   "execution_count": 68,
   "metadata": {},
   "outputs": [
    {
     "data": {
      "image/png": "[encoded data removed]",
      "text/plain": [
       "<Figure size 432x288 with 1 Axes>"
      ]
     },
     "metadata": {
      "needs_background": "light"
     },
     "output_type": "display_data"
    },
    {
     "data": {
      "image/png": "[encoded data removed]",
      "text/plain": [
       "<Figure size 432x288 with 1 Axes>"
      ]
     },
     "metadata": {
      "needs_background": "light"
     },
     "output_type": "display_data"
    }
   ],
   "source": [
    "objects = ('Cluster 0', 'Cluster 1', 'Cluster 2', 'Cluster 3')\n",
    "y_pos = np.arange(len(objects))\n",
    "performance = dfcl0.liveness.mean(), dfcl1.liveness.mean(), dfcl2.liveness.mean(), dfcl3.liveness.mean()\n",
    "\n",
    "plt.bar(y_pos, performance, align='center', alpha=0.5)\n",
    "plt.xticks(y_pos, objects)\n",
    "plt.ylabel('Valor')\n",
    "plt.title('Média de tempo por cluster da dancabilidade')\n",
    "\n",
    "plt.show()"
   ]
  },
  {
   "cell_type": "code",
   "execution_count": null,
   "metadata": {},
   "outputs": [],
   "source": []
  }
 ],
 "metadata": {
  "kernelspec": {
   "display_name": "Python 3",
   "language": "python",
   "name": "python3"
  },
  "language_info": {
   "codemirror_mode": {
    "name": "ipython",
    "version": 3
   },
   "file_extension": ".py",
   "mimetype": "text/x-python",
   "name": "python",
   "nbconvert_exporter": "python",
   "pygments_lexer": "ipython3",
   "version": "3.7.3"
  }
 },
 "nbformat": 4,
 "nbformat_minor": 2
}
