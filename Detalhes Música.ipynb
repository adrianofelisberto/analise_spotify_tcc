{
 "cells": [
  {
   "cell_type": "markdown",
   "metadata": {},
   "source": [
    "Acessando mongo e limpando os dados"
   ]
  },
  {
   "cell_type": "code",
   "execution_count": null,
   "metadata": {},
   "outputs": [],
   "source": [
    "# Bibliotecas utilizadas\n",
    "import requests\n",
    "import json\n",
    "import pandas as pd\n",
    "from pymongo import MongoClient"
   ]
  },
  {
   "cell_type": "code",
   "execution_count": null,
   "metadata": {},
   "outputs": [],
   "source": [
    "# getToken retorna um token de acesso para a api spotify\n",
    "def getToken():\n",
    "    \n",
    "    url = \"https://accounts.spotify.com/api/token\"\n",
    "\n",
    "    basic = \"Basic ODY4NDUxY2Y5YWI2NDUwYjkwZDIwMmQzOTZhN2FiY2I6NzBlMjJjNGRmZGJkNDJlZWIyZDc1NmMzMDBiOThjMmI=\"\n",
    "\n",
    "    payload = \"grant_type=client_credentials&undefined=\"\n",
    "    headers = {\n",
    "        'Content-Type': \"application/x-www-form-urlencoded\",\n",
    "        'Authorization': basic,\n",
    "       }\n",
    "\n",
    "    response = requests.request(\"POST\", url, data=payload, headers=headers)\n",
    "\n",
    "    responseJson = json.loads(response.text)\n",
    "\n",
    "    return responseJson['access_token']"
   ]
  },
  {
   "cell_type": "code",
   "execution_count": null,
   "metadata": {},
   "outputs": [],
   "source": [
    "# Seta a autorização\n",
    "def setHeaders():\n",
    "    return {'Authorization': 'Bearer '+ getToken()}"
   ]
  },
  {
   "cell_type": "code",
   "execution_count": null,
   "metadata": {},
   "outputs": [],
   "source": [
    "# getCollectionMongo conecta ao mongo localhost\n",
    "# cria o db tcc-spotify\n",
    "# define a collection informada como parâmetro\n",
    "def getCollectionMongo(collection):\n",
    "    client = MongoClient('localhost', 27017)\n",
    "    banco = client['tcc_spotify']\n",
    "    return banco[collection]"
   ]
  },
  {
   "cell_type": "code",
   "execution_count": null,
   "metadata": {},
   "outputs": [],
   "source": [
    "df = pd.read_csv('dataset_tcc.csv')\n",
    "df.head()"
   ]
  },
  {
   "cell_type": "code",
   "execution_count": null,
   "metadata": {},
   "outputs": [],
   "source": [
    "len(df)"
   ]
  },
  {
   "cell_type": "code",
   "execution_count": null,
   "metadata": {},
   "outputs": [],
   "source": [
    "# Removendo colunas que não serão utilizadas\n",
    "df_musics = df_musics.drop(columns=['available_markets', 'disc_number',\n",
    "       'episode', 'explicit', 'external_ids','is_local', 'external_urls', 'preview_url', 'track',\n",
    "       'track_number', 'type', 'uri'])\n",
    "df_musics.head()"
   ]
  },
  {
   "cell_type": "code",
   "execution_count": null,
   "metadata": {},
   "outputs": [],
   "source": [
    "df.head()"
   ]
  },
  {
   "cell_type": "code",
   "execution_count": null,
   "metadata": {},
   "outputs": [],
   "source": [
    "url = \"https://api.spotify.com/v1/audio-features/0uMMXIZEdcBIV7a1CXOlvg\"\n",
    "response = requests.request(\"GET\", url, data=\"\", headers=setHeaders())\n",
    "track_info = json.loads(response.text)\n",
    "track_info\n",
    "    \n"
   ]
  },
  {
   "cell_type": "markdown",
   "metadata": {},
   "source": [
    "## Buscando o gênero do artista"
   ]
  },
  {
   "cell_type": "code",
   "execution_count": null,
   "metadata": {
    "scrolled": true
   },
   "outputs": [],
   "source": [
    "for index, album in enumerate(df['artists'], start=0):\n",
    "    url = album['artists'][0]['href']\n",
    "    print(url)\n",
    "    response = requests.request(\"GET\", url, headers=setHeaders())\n",
    "    response = json.loads(response.text)\n",
    "    album['genres'] = response['genres']\n",
    "    \n",
    "df_musics.head()"
   ]
  },
  {
   "cell_type": "code",
   "execution_count": null,
   "metadata": {},
   "outputs": [],
   "source": [
    "df_musics['album'][0]"
   ]
  },
  {
   "cell_type": "code",
   "execution_count": null,
   "metadata": {},
   "outputs": [],
   "source": [
    "\n",
    "      print(\"Busca %2d musica playlists %s\" %(index, playlist[\"tracks\"][\"href\"]))\n",
    "    print('Acessando url...')\n",
    "    url = playlist[\"tracks\"][\"href\"]\n",
    "    print('url > ' + url)\n",
    "    print('Get país')\n",
    "    pais = playlist[\"country\"]\n",
    "    print('país > ' + pais)\n",
    "    print('Realizando requisição...')\n",
    "    response = requests.request(\"GET\", url, headers=setHeaders())\n",
    "    response = json.loads(response.text)\n",
    "    print('Acessando as músicas...')\n",
    "    musics = response['items']\n",
    "    \n",
    "    print('Acessando Collection...')\n",
    "    collection = getCollectionMongo('musics')\n",
    "    \n",
    "    \n",
    "    for track in musics:\n",
    "        print('Inserindo country no objeto JSON...')\n",
    "        track['track']['country'] = pais\n",
    "        print('Inserindo dados no banco...')\n",
    "        collection.insert_one(track['track'])\n",
    "\n",
    "    print(\"Busca %2d finalizada.\" %(index))\n",
    "    print('...')"
   ]
  }
 ],
 "metadata": {
  "kernelspec": {
   "display_name": "Python 3",
   "language": "python",
   "name": "python3"
  },
  "language_info": {
   "codemirror_mode": {
    "name": "ipython",
    "version": 3
   },
   "file_extension": ".py",
   "mimetype": "text/x-python",
   "name": "python",
   "nbconvert_exporter": "python",
   "pygments_lexer": "ipython3",
   "version": "3.7.3"
  }
 },
 "nbformat": 4,
 "nbformat_minor": 2
}
